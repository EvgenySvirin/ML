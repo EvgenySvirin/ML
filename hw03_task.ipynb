{
  "cells": [
    {
      "cell_type": "markdown",
      "metadata": {
        "id": "-GeqjUsgn4HY"
      },
      "source": [
        "# Линейная регрессия\n",
        "__Суммарное количество баллов: 10__"
      ]
    },
    {
      "cell_type": "code",
      "execution_count": null,
      "metadata": {
        "id": "QmYMrZJGn4Hg"
      },
      "outputs": [],
      "source": [
        "from sklearn.datasets import make_blobs, make_moons\n",
        "from sklearn.model_selection import train_test_split\n",
        "import numpy as np\n",
        "import random\n",
        "import matplotlib.pyplot as plt\n",
        "import matplotlib\n",
        "import copy"
      ]
    },
    {
      "cell_type": "code",
      "execution_count": null,
      "metadata": {
        "id": "l86n1A9Bn4Hj"
      },
      "outputs": [],
      "source": [
        "def read_data(path=\"boston.csv\"):\n",
        "    dataframe = np.genfromtxt(path, delimiter=\",\", skip_header=15)\n",
        "    np.random.seed(42)\n",
        "    np.random.shuffle(dataframe)\n",
        "    X = dataframe[:, :-1]\n",
        "    y = dataframe[:, -1]\n",
        "    return X, y"
      ]
    },
    {
      "cell_type": "code",
      "execution_count": null,
      "metadata": {
        "id": "SIDuGR68n4Hj"
      },
      "outputs": [],
      "source": [
        "def generate_synthetic(size:int, dim=6, noise=0.1):\n",
        "    X = np.random.randn(size, dim)\n",
        "    w = np.random.randn(dim + 1)\n",
        "    noise = noise * np.random.randn(size)\n",
        "    y = X.dot(w[1:]) + w[0] + noise\n",
        "    return X, y"
      ]
    },
    {
      "cell_type": "code",
      "execution_count": null,
      "metadata": {
        "id": "t3vIJt-X4dob"
      },
      "outputs": [],
      "source": [
        "X, y = read_data()"
      ]
    },
    {
      "cell_type": "code",
      "execution_count": null,
      "metadata": {
        "id": "Fc7Wg91GVCGj"
      },
      "outputs": [],
      "source": [
        "from sklearn.metrics import mean_squared_error\n",
        "from sklearn.metrics import r2_score"
      ]
    },
    {
      "cell_type": "code",
      "execution_count": null,
      "metadata": {
        "id": "bmYH8eEUI2zD"
      },
      "outputs": [],
      "source": [
        "# Task 1\n",
        "def mse(y_true:np.ndarray, y_predicted:np.ndarray):\n",
        "    return np.sum((y_true - y_predicted) ** 2) / y_true.shape[0]\n",
        "\n",
        "def r2(y_true:np.ndarray, y_predicted:np.ndarray):\n",
        "    diff2 = (y_true - y_predicted) ** 2\n",
        "    m = np.mean(y_true)\n",
        "    tot = np.sum((y_true - m) ** 2)\n",
        "    resid = np.sum(diff2)\n",
        "    return (tot - resid) / tot"
      ]
    },
    {
      "cell_type": "code",
      "execution_count": null,
      "metadata": {
        "colab": {
          "background_save": true
        },
        "id": "4551JlSk4q2b"
      },
      "outputs": [],
      "source": [
        "\n",
        "# Task 1\n",
        "\n",
        "def mse(y_true:np.ndarray, y_predicted:np.ndarray):\n",
        "    return 0.0\n",
        "\n",
        "def r2(y_true:np.ndarray, y_predicted:np.ndarray):\n",
        "    return 0.0\n",
        "\n",
        "# Task 2\n",
        "\n",
        "class NormalLR:\n",
        "    def __init__(self):\n",
        "        self.weights = None # Save weights here\n",
        "    \n",
        "    def fit(self, X:np.ndarray, y:np.ndarray):\n",
        "        pass\n",
        "    \n",
        "    def predict(self, X:np.ndarray) -> np.ndarray:\n",
        "        pass\n",
        "    \n",
        "# Task 3\n",
        "\n",
        "class GradientLR:\n",
        "    def __init__(self, alpha:float, iterations=10000, l=0.):\n",
        "        self.weights = None # Save weights here\n",
        "    \n",
        "    def fit(self, X:np.ndarray, y:np.ndarray):\n",
        "        pass\n",
        "\n",
        "    def predict(self, X:np.ndarray):\n",
        "        pass\n",
        "\n",
        "# Task 4\n",
        "\n",
        "def get_feature_importance(linear_regression):\n",
        "    return []\n",
        "\n",
        "def get_most_important_features(linear_regression):\n",
        "    return []"
      ]
    },
    {
      "cell_type": "markdown",
      "metadata": {
        "id": "KTQrXJM3n4Hk"
      },
      "source": [
        "### Задание 1 (1 балл)\n",
        "Для начала нужно понять, какую метрику для ошибки будем использовать. В нашем случае нам подойдет стандартная метрика MSE. Также чтобы оценить качество модели нам понадобится метрика $R^2$. Реализуйте обе эти метрики."
      ]
    },
    {
      "cell_type": "code",
      "execution_count": null,
      "metadata": {
        "id": "MhFj_POqn4Hl"
      },
      "outputs": [],
      "source": [
        "from task import mse, r2"
      ]
    },
    {
      "cell_type": "markdown",
      "metadata": {
        "id": "wl6-3k-wn4Hm"
      },
      "source": [
        "### Задание 2 (3 балла)\n",
        "Теперь реализуем линейную регрессию при помощи явного решения задачи минимизации. \n",
        "\n",
        "#### Методы\n",
        "`fit(X, y)` - решает задачу минимизации $\\arg\\min_{w, b}\\sum ((w\\cdot x + b) - y)^2$. \n",
        "\n",
        "`predict(X)` - строит предсказание `y` для объектов из `X`."
      ]
    },
    {
      "cell_type": "code",
      "execution_count": null,
      "metadata": {
        "id": "eGk6nYF-lDKM"
      },
      "outputs": [],
      "source": [
        "def add_one_left(X):\n",
        "    return np.concatenate(([1], X))\n",
        "\n",
        "class NormalLR:\n",
        "    def __init__(self):\n",
        "        self.weights = None # Save weights here\n",
        "    \n",
        "    def fit(self, X:np.ndarray, y:np.ndarray):\n",
        "        x_ext = np.apply_along_axis(add_one_left, 1, X)\n",
        "        x_ext_tr = x_ext.transpose()\n",
        "                \n",
        "        self.x_sword =  np.dot(np.linalg.inv(np.matmul(x_ext_tr, x_ext)), x_ext_tr)\n",
        "        self.weights = np.dot(self.x_sword, y)\n",
        "    \n",
        "    def predict(self, X:np.ndarray) -> np.ndarray:\n",
        "        x_ext = np.apply_along_axis(add_one_left, 1, X)\n",
        "        return np.dot(x_ext, self.weights) "
      ]
    },
    {
      "cell_type": "code",
      "execution_count": null,
      "metadata": {
        "id": "qZ5qQ1p3n4Hn"
      },
      "outputs": [],
      "source": [
        "from task import NormalLR"
      ]
    },
    {
      "cell_type": "code",
      "execution_count": null,
      "metadata": {
        "id": "Qg5BqJPAn4Hn"
      },
      "outputs": [],
      "source": [
        "X, y = generate_synthetic(1024)\n",
        "X_train, X_test, y_train, y_test = train_test_split(X, y, train_size=0.8)"
      ]
    },
    {
      "cell_type": "code",
      "execution_count": null,
      "metadata": {
        "colab": {
          "base_uri": "https://localhost:8080/"
        },
        "id": "dyB5sun8n4Ho",
        "outputId": "1b7d728b-6632-4527-ad87-9bf142770f7e"
      },
      "outputs": [
        {
          "output_type": "stream",
          "name": "stdout",
          "text": [
            "MSE: 0.009749306748453547, R2: 0.9964719373674387\n"
          ]
        }
      ],
      "source": [
        "regr = NormalLR()\n",
        "regr.fit(X_train, y_train)\n",
        "y_pred = regr.predict(X_test)\n",
        "print(f\"MSE: {mse(y_test, y_pred)}, R2: {r2(y_test, y_pred)}\")"
      ]
    },
    {
      "cell_type": "markdown",
      "metadata": {
        "id": "AQ9rFp-gn4Hp"
      },
      "source": [
        "### Задание 3 (4 балла)\n",
        "Теперь реализуем линейную регрессию с использованием градиентного спуска с larning rate `alpha` в течении `iterations` итераций. В задании необходимо использовать регуляризацию Лассо с коэффициентом `l`.\n",
        "\n",
        "#### Методы\n",
        "`fit(X, y)` - приближает решение задачи минимизации $\\arg\\min_{w, b}\\sum ((w\\cdot x + b) - y)^2$ при помощи градиентного спуска. \n",
        "\n",
        "\n",
        "`predict(X)` - строит предсказание `y` для объектов из `X`."
      ]
    },
    {
      "cell_type": "code",
      "execution_count": null,
      "metadata": {
        "id": "eYzw2-dcn4Hq"
      },
      "outputs": [],
      "source": [
        "\n",
        "from sklearn import preprocessing"
      ]
    },
    {
      "cell_type": "code",
      "source": [
        "from sklearn.preprocessing import StandardScaler"
      ],
      "metadata": {
        "id": "aUKqK3JOtrQi"
      },
      "execution_count": null,
      "outputs": []
    },
    {
      "cell_type": "code",
      "source": [
        "scaler = StandardScaler()\n",
        "x = [[1, 2, 3], [1, 1, 1], [2, 2, 2]]\n",
        "y = [1, 2, 2]\n",
        "x_transformed = scaler.fit_transform(x)\n",
        "\n",
        "print(x, x_transformed)\n",
        "\n",
        "x2 = scaler.inverse_transform(x_transformed, copy=True)\n",
        "\n",
        "print(x2)"
      ],
      "metadata": {
        "colab": {
          "base_uri": "https://localhost:8080/"
        },
        "id": "dCXwIbP2q7WA",
        "outputId": "6d3e9667-85d2-4c84-9333-1eba0695d48e"
      },
      "execution_count": null,
      "outputs": [
        {
          "output_type": "stream",
          "name": "stdout",
          "text": [
            "[[1, 2, 3], [1, 1, 1], [2, 2, 2]] [[-0.70710678  0.70710678  1.22474487]\n",
            " [-0.70710678 -1.41421356 -1.22474487]\n",
            " [ 1.41421356  0.70710678  0.        ]]\n",
            "[[1. 2. 3.]\n",
            " [1. 1. 1.]\n",
            " [2. 2. 2.]]\n"
          ]
        }
      ]
    },
    {
      "cell_type": "code",
      "source": [
        "print(x)\n",
        "x3 = myScaler(x)\n",
        "print(x3)"
      ],
      "metadata": {
        "colab": {
          "base_uri": "https://localhost:8080/"
        },
        "id": "pVDg2IaO0Roc",
        "outputId": "1d59ad2e-8f11-45ad-a4fa-42fc23b30698"
      },
      "execution_count": null,
      "outputs": [
        {
          "output_type": "stream",
          "name": "stdout",
          "text": [
            "[[2, 2, 2], [1, 1, 1], [2, 2, 2]]\n",
            "[2 2 2]\n",
            "[1 1 1]\n",
            "[[1. 1. 1.]\n",
            " [0. 0. 0.]\n",
            " [1. 1. 1.]]\n"
          ]
        }
      ]
    },
    {
      "cell_type": "code",
      "source": [
        "class MyScaler:\n",
        "  def fit(self, x):\n",
        "    maxes = np.copy(x[0])\n",
        "    mines = np.copy(x[0])\n",
        "    for line in x:\n",
        "      for i in range(len(line)):\n",
        "        maxes[i] = max(maxes[i], line[i])\n",
        "        mines[i] = min(mines[i], line[i])\n",
        "    self.maxes = maxes\n",
        "    self.mines = mines\n",
        "  \n",
        "  def transform(self, x):\n",
        "    mines = self.mines\n",
        "    maxes = self.maxes\n",
        "    x_res = np.copy(np.vstack([self.mines, self.maxes])) #just for next vstack usages to work\n",
        "    for line in x:\n",
        "      row = np.array([(line[i] - mines[i]) / (maxes[i] - mines[i]) if maxes[i] != mines[i] else 0 for i in range(len(line))])\n",
        "      x_res = np.vstack([x_res, row])\n",
        "    return x_res[2:]\n",
        "\n",
        "  def fit_y(self, y):\n",
        "    self.maxY = max(y)\n",
        "    self.minY = min(y)\n",
        " \n",
        "  def transform_y(self, y):\n",
        "    return np.array([(label - self.minY) / (self.maxY - self.minY) for label in y])\n",
        "  \n",
        "  def inverse_transform_y(self, y):\n",
        "    return np.array([(label * (self.maxY - self.minY) + self.minY) for label in y])\n"
      ],
      "metadata": {
        "id": "myEdl7xzzAnk"
      },
      "execution_count": null,
      "outputs": []
    },
    {
      "cell_type": "code",
      "source": [
        "from sklearn.preprocessing import MinMaxScaler"
      ],
      "metadata": {
        "id": "M9BS6wjYI04q"
      },
      "execution_count": null,
      "outputs": []
    },
    {
      "cell_type": "code",
      "execution_count": null,
      "metadata": {
        "id": "mx9YC2YH6KGJ"
      },
      "outputs": [],
      "source": [
        "class GradientLR:\n",
        "    def __init__(self, alpha:float, iterations=10000, l=0.):\n",
        "        self.alpha = alpha\n",
        "        self.iterations = iterations\n",
        "        self.l = l\n",
        "\n",
        "    def fit(self, X:np.ndarray, y:np.ndarray):\n",
        "        self.scaler = MinMaxScaler()\n",
        "        self.scaler.fit(X)\n",
        "        X = self.scaler.transform(X)\n",
        "        x_ext = np.apply_along_axis(add_one_left, 1, X)\n",
        "        self.weights = np.zeros(x_ext.shape[1])\n",
        "\n",
        "        #self.scaler.fit_y(y)\n",
        "        #y = self.scaler.transform_y(y)\n",
        "        for i in range(self.iterations):\n",
        "            y_predicted = np.dot(x_ext, self.weights)\n",
        "            gradient = np.dot(y_predicted - y, x_ext) / x_ext.shape[0]\n",
        "            gradient += np.dot(self.l, np.sign(self.weights))\n",
        "            #gradient += np.dot(self.l, np.array(self.weights))\n",
        "            self.weights -= np.dot(self.alpha, gradient)\n",
        "\n",
        "    def predict(self, X:np.ndarray):\n",
        "        X = self.scaler.transform(X)\n",
        "        if (X.shape[1] < self.weights.shape[0]):\n",
        "            X = np.apply_along_axis(add_one_left, 1, X)\n",
        "        return np.dot(X, self.weights) \n",
        "        #return self.scaler.inverse_transform_y(np.dot(X, self.weights)) "
      ]
    },
    {
      "cell_type": "code",
      "execution_count": null,
      "metadata": {
        "id": "NcfjGBREn4Hq"
      },
      "outputs": [],
      "source": [
        "def build_plot(X_train, y_train, X_test, y_test):\n",
        "    xs = np.arange(0.0, 0.02, 0.0002)\n",
        "    errors = []\n",
        "    for x in xs:\n",
        "        regr = GradientLR(0.1, iterations=10000, l=x)\n",
        "        regr.fit(X_train, y_train)\n",
        "        errors.append(mse(y_test, regr.predict(X_test)))\n",
        "    plt.figure(figsize=(9, 4))\n",
        "    plt.xlim(xs[0], xs[-1])\n",
        "    plt.grid()\n",
        "    plt.plot(xs, errors)\n",
        "    plt.show()"
      ]
    },
    {
      "cell_type": "code",
      "execution_count": null,
      "metadata": {
        "id": "ZQ8txzZdn4Hr"
      },
      "outputs": [],
      "source": [
        "X, y = generate_synthetic(1024)\n",
        "X, X_val, y, y_val = train_test_split(X, y, train_size=0.9, shuffle=True)\n",
        "X_train, X_test, y_train, y_test = train_test_split(X, y, train_size=0.8, shuffle=True)"
      ]
    },
    {
      "cell_type": "code",
      "execution_count": null,
      "metadata": {
        "colab": {
          "base_uri": "https://localhost:8080/",
          "height": 265
        },
        "id": "z7QFa1czn4Hs",
        "outputId": "8df45375-379a-43cd-9fb8-70b2812d8cef"
      },
      "outputs": [
        {
          "output_type": "display_data",
          "data": {
            "text/plain": [
              "<Figure size 648x288 with 1 Axes>"
            ],
            "image/png": "[encoded data removed]"
          },
          "metadata": {
            "needs_background": "light"
          }
        }
      ],
      "source": [
        "build_plot(X_train, y_train, X_val, y_val)"
      ]
    },
    {
      "cell_type": "code",
      "execution_count": null,
      "metadata": {
        "colab": {
          "base_uri": "https://localhost:8080/"
        },
        "id": "siP8OKLRn4Ht",
        "outputId": "90f409c3-267c-4de1-d243-7107922a7385"
      },
      "outputs": [
        {
          "output_type": "stream",
          "name": "stdout",
          "text": [
            "MSE: 0.011010613539734083, R2: 0.9981701599975706\n"
          ]
        }
      ],
      "source": [
        "regr = GradientLR(0.1, iterations=10000)\n",
        "regr.fit(X_train, y_train)\n",
        "y_pred = regr.predict(X_test)\n",
        "print(f\"MSE: {mse(y_test, y_pred)}, R2: {r2(y_test, y_pred)}\")"
      ]
    },
    {
      "cell_type": "markdown",
      "metadata": {
        "id": "ghCaw906z-ks"
      },
      "source": [
        "### Задание 4 (2 балла)\n",
        "Линейная регрессия является методом, который можно интерпретировать основываясь на значениях весов модели. Реализуйте метод, который будет упорядочивать признаки по их важности от наибольшей важности к наименьшей.\n",
        "\n",
        "Обратите внимание, что такая интерпретация имеет смысл только если данные предварительно нормализованы, а также в признаках нет мультиколлинеарности (если используете обычную линейную регрессию).\n",
        "\n",
        "#### Методы\n",
        "`get_feature_importance` - метод, который вычисляет важность для каждого признака. Принимает на вход обученную линейную регрессию, возвращает список значений метрики важности признаков.\n",
        "\n",
        "`get_most_important_features`- метод, который упорядочевает признаки по их важности в порядке убывания. Принимает на вход обученную линейную регрессию, возвращает упорядоченный список, состоящий из индексов признаков."
      ]
    },
    {
      "cell_type": "code",
      "execution_count": null,
      "metadata": {
        "id": "0HDGLiadz-kt"
      },
      "outputs": [],
      "source": [
        "def get_feature_importance(linear_regression):\n",
        "    return np.abs(linear_regression.weights[1:])\n",
        "\n",
        "def get_most_important_features(linear_regression):\n",
        "    return list(zip(*sorted(enumerate(get_feature_importance(linear_regression)), key=lambda x :x[1], reverse=True)))[0]"
      ]
    },
    {
      "cell_type": "code",
      "execution_count": null,
      "metadata": {
        "id": "5bV9CRekz-kt",
        "colab": {
          "base_uri": "https://localhost:8080/"
        },
        "outputId": "fcefa752-120a-49a3-d852-76c640cead7d"
      },
      "outputs": [
        {
          "output_type": "stream",
          "name": "stdout",
          "text": [
            "[0.4515153  0.77371078 0.05516782 1.4815458  1.64594382 0.11396867]\n",
            "(4, 3, 1, 0, 5, 2)\n"
          ]
        }
      ],
      "source": [
        "regr = NormalLR()\n",
        "regr.fit(X_train, y_train)\n",
        "y_pred = regr.predict(X_test)\n",
        "\n",
        "print(get_feature_importance(regr))\n",
        "print(get_most_important_features(regr))"
      ]
    },
    {
      "cell_type": "code",
      "execution_count": null,
      "metadata": {
        "id": "lCJVVTvYz-kt",
        "colab": {
          "base_uri": "https://localhost:8080/"
        },
        "outputId": "68709557-575b-4453-f054-73431b4c1ad1"
      },
      "outputs": [
        {
          "output_type": "stream",
          "name": "stdout",
          "text": [
            "[ 2.56456896  4.85596185  0.38279804  9.1519915  10.36314278  0.65613005]\n",
            "(4, 3, 1, 0, 5, 2)\n"
          ]
        }
      ],
      "source": [
        "regr = GradientLR(0.1, iterations=10000)\n",
        "regr.fit(X_train, y_train)\n",
        "y_pred = regr.predict(X_test)\n",
        "\n",
        "print(get_feature_importance(regr))\n",
        "print(get_most_important_features(regr))"
      ]
    },
    {
      "cell_type": "markdown",
      "metadata": {
        "id": "UmjSHt9rn4Ht"
      },
      "source": [
        "### Дополнительно\n",
        "Протесируйте оба метода на данных `boston.csv`, для градиентного спуска постройте график зависимости ошибки от коэффициента регуляризации. "
      ]
    },
    {
      "cell_type": "code",
      "execution_count": null,
      "metadata": {
        "id": "dk2TeC7Hn4Hu"
      },
      "outputs": [],
      "source": [
        "X, y = read_data()\n",
        "X_train, X_val, y_train, y_val = train_test_split(X, y, train_size=0.8, shuffle=False)"
      ]
    },
    {
      "cell_type": "code",
      "execution_count": null,
      "metadata": {
        "id": "GZCb_5KVn4Hu"
      },
      "outputs": [],
      "source": [
        "regr = NormalLR()\n",
        "regr.fit(X_train, y_train)\n",
        "print(f\"MSE: {mse(y_val, y_pred)}, R2: {r2(y_test, y_val)}\")"
      ]
    },
    {
      "cell_type": "code",
      "execution_count": null,
      "metadata": {
        "id": "UMkUfayxn4Hv"
      },
      "outputs": [],
      "source": [
        "build_plot(X_train, y_train, X_val, y_val)"
      ]
    },
    {
      "cell_type": "code",
      "execution_count": null,
      "metadata": {
        "id": "MtPBlBPkn4Hw"
      },
      "outputs": [],
      "source": [
        "regr = GradientLR(0.1, iterations=10000)\n",
        "regr.fit(X_train, y_train)\n",
        "print(f\"MSE: {mse(y_val, y_pred)}, R2: {r2(y_test, y_val)}\")"
      ]
    },
    {
      "cell_type": "markdown",
      "metadata": {
        "id": "d63Ei1yEn4Hw"
      },
      "source": [
        "Проинтерпритируйте полученные результаты. Опишите влияние каждого признака на результат предсказания."
      ]
    },
    {
      "cell_type": "code",
      "execution_count": null,
      "metadata": {
        "id": "19Ci6i5Wn4Hw"
      },
      "outputs": [],
      "source": []
    }
  ],
  "metadata": {
    "colab": {
      "provenance": []
    },
    "kernelspec": {
      "display_name": "Python 3 (ipykernel)",
      "language": "python",
      "name": "python3"
    },
    "language_info": {
      "codemirror_mode": {
        "name": "ipython",
        "version": 3
      },
      "file_extension": ".py",
      "mimetype": "text/x-python",
      "name": "python",
      "nbconvert_exporter": "python",
      "pygments_lexer": "ipython3",
      "version": "3.9.12"
    }
  },
  "nbformat": 4,
  "nbformat_minor": 0
}